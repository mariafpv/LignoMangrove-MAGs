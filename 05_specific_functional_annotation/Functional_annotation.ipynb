{
 "cells": [
  {
   "cell_type": "markdown",
   "metadata": {},
   "source": [
    ":D"
   ]
  },
  {
   "cell_type": "code",
   "execution_count": 1,
   "metadata": {},
   "outputs": [],
   "source": [
    "import os\n",
    "import pandas as pd\n",
    "import numpy as np\n",
    "import matplotlib.pyplot as plt\n",
    "import matplotlib.cm as cm\n",
    "import seaborn as sns\n",
    "from scipy.stats import hypergeom, chi2_contingency\n",
    "import upsetplot as up\n",
    "import glob\n",
    "import csv"
   ]
  },
  {
   "cell_type": "code",
   "execution_count": 2,
   "metadata": {},
   "outputs": [
    {
     "name": "stdout",
     "output_type": "stream",
     "text": [
      "                   #query                  seed_ortholog         evalue  \\\n",
      "0  Prodigal_2|LOCUS_00010            331678.Cphamn1_1961   2.230000e-26   \n",
      "1  Prodigal_3|LOCUS_00020            1242864.D187_003286  5.080000e-106   \n",
      "2  Prodigal_4|LOCUS_00030  1038858.AXBA01000001_gene3203   6.210000e-42   \n",
      "3  Prodigal_6|LOCUS_00050   1382306.JNIM01000001_gene888  1.140000e-121   \n",
      "4  Prodigal_7|LOCUS_00060              526222.Desal_0144   5.200000e-31   \n",
      "\n",
      "   score                                         eggNOG_OGs  \\\n",
      "0  102.0                  COG4113@1|root,COG4113@2|Bacteria   \n",
      "1  330.0  COG0513@1|root,COG0513@2|Bacteria,1MU49@1224|P...   \n",
      "2  140.0  COG0278@1|root,COG0278@2|Bacteria,1MZ4V@1224|P...   \n",
      "3  362.0  COG0042@1|root,COG0042@2|Bacteria,2G6XB@200795...   \n",
      "4  117.0  COG0242@1|root,COG0242@2|Bacteria,1RA2P@1224|P...   \n",
      "\n",
      "               max_annot_lvl COG_category  \\\n",
      "0                 2|Bacteria            S   \n",
      "1  28221|Deltaproteobacteria            L   \n",
      "2  28211|Alphaproteobacteria            C   \n",
      "3         200795|Chloroflexi            H   \n",
      "4  28221|Deltaproteobacteria            J   \n",
      "\n",
      "                                         Description Preferred_name GOs  ...  \\\n",
      "0  Toxic component of a toxin-antitoxin (TA) modu...              -   -  ...   \n",
      "1            Belongs to the DEAD box helicase family              -   -  ...   \n",
      "2                                       Glutaredoxin           grlA   -  ...   \n",
      "3  Catalyzes the synthesis of 5,6-dihydrouridine ...              -   -  ...   \n",
      "4  Removes the formyl group from the N-terminal M...            def   -  ...   \n",
      "\n",
      "       KEGG_Pathway KEGG_Module KEGG_Reaction KEGG_rclass  \\\n",
      "0                 -           -             -           -   \n",
      "1  ko03018,map03018           -             -           -   \n",
      "2                 -           -             -           -   \n",
      "3                 -           -             -           -   \n",
      "4                 -           -             -           -   \n",
      "\n",
      "                             BRITE KEGG_TC CAZy BiGG_Reaction  \\\n",
      "0                                -       -    -             -   \n",
      "1  ko00000,ko00001,ko01000,ko03019       -    -             -   \n",
      "2          ko00000,ko03029,ko03110       -    -             -   \n",
      "3                                -       -    -             -   \n",
      "4                  ko00000,ko01000       -    -             -   \n",
      "\n",
      "             PFAMs           MAG  \n",
      "0              PIN  LW_10984.fna  \n",
      "1  DEAD,Helicase_C  LW_10984.fna  \n",
      "2     Glutaredoxin  LW_10984.fna  \n",
      "3              Dus  LW_10984.fna  \n",
      "4  Pep_deformylase  LW_10984.fna  \n",
      "\n",
      "[5 rows x 22 columns]\n"
     ]
    }
   ],
   "source": [
    "#Importo tabla con resultados:\n",
    "\n",
    "combined_df = pd.read_csv(\"combined_annotations.csv\")\n",
    "print(combined_df.head())"
   ]
  },
  {
   "cell_type": "code",
   "execution_count": 3,
   "metadata": {},
   "outputs": [],
   "source": [
    "# Mapping of MAG names to taxon names\n",
    "mag_to_taxon = {\n",
    "    \"C_27077.fna\": \"UBA5704 (a)\",\n",
    "    \"C_maxbin_C.028.fasta\": \"HGW-15\",\n",
    "    \"C_metabat_C.121.fa\": \"ZC4RG35 (a)\",\n",
    "    \"C_metabat_C.124.fa\": \"Micropepsaceae\",\n",
    "    \"C_metabat_C.125.fa\": \"SZUA-232\",\n",
    "    \"C_metabat_C.19.fa\": \"Nitriliruptoraceae\",\n",
    "    \"C_metabat_C.25.fa\": \"E44-bin32 (a)\",\n",
    "    \"C_metabat_C.37.fa\": \"SZUA-229\",\n",
    "    \"C_metabat_C.46.fa\": \"JABDQX01\",\n",
    "    \"C_metabat_C.60.fa\": \"UBA5704 (b)\",\n",
    "    \"C_metabat_C.7.fa\": \"Pseudonocardiaceae\",\n",
    "    \"C_metabat_C.74.fa\": \"Balneolaceae (a)\",\n",
    "    \"C_metabat_C.81.fa\": \"Promineofilaceae (a)\",\n",
    "    \"C_metabat_C.83.fa\": \"UBA5704 (c)\",\n",
    "    \"C_metabat_C.95.fa\": \"J153\",\n",
    "    \"C_metabat_C.98.fa\": \"ZC4RG35 (b)\",\n",
    "    \"CW_23909.fna\": \"Woeseiaceae (a)\",\n",
    "    \"CW_maxbin_CW.098\": \"Nitrososphaeraceae (a)\",\n",
    "    \"CW_maxbin_CW.218\": \"Nitrososphaeraceae (b)\",\n",
    "    \"CW_metabat_CW.108.fa\": \"RKRQ02 (a)\",\n",
    "    \"CW_metabat_CW.111.fa\": \"UBA6522 (a)\",\n",
    "    \"CW_metabat_CW.121.fa\": \"Methyloligellaceae\",\n",
    "    \"CW_metabat_CW.123.fa\": \"E44-bin32 (b)\",\n",
    "    \"CW_metabat_CW.131.fa\": \"UBA6522 (b)\",\n",
    "    \"CW_metabat_CW.20.fa\": \"SG8-38\",\n",
    "    \"CW_metabat_CW.37.fa\": \"UBA6522 (c)\",\n",
    "    \"CW_metabat_CW.57.fa\": \"UBA6522 (d)\",\n",
    "    \"CW_metabat_CW.86.fa\": \"UBA4486\",\n",
    "    \"CW_metabat_CW.95.fa\": \"JACQBZ02\",\n",
    "    \"CW_metabat_CW.96.fa\": \"GWC2-71-9\",\n",
    "    \"L_25727.fna\": \"Sporolactobacillaceae (a)\",\n",
    "    \"L_maxbin_L.002\": \"Paenibacillaceae\",\n",
    "    \"L_maxbin_L.006\": \"Domibacillaceae\",\n",
    "    \"L_maxbin_L.259\": \"Sporolactobacillaceae (b)\",\n",
    "    \"L_metabat_L.102.fa\": \"Jiangellales\",\n",
    "    \"L_metabat_L.108.fa\": \"SM23-39\",\n",
    "    \"L_metabat_L.119.fa\": \"Flavobacteriaceae\",\n",
    "    \"L_metabat_L.121.fa\": \"Streptomycetaceae\",\n",
    "    \"L_metabat_L.18.fa\": \"Rhodobacteraceae\",\n",
    "    \"L_metabat_L.41.fa\": \"RKRQ01\",\n",
    "    \"L_metabat_L.45.fa\": \"Cellulomonadaceae\",\n",
    "    \"L_metabat_L.59.fa\": \"CECT-8803\",\n",
    "    \"L_metabat_L.70.fa\": \"UBA8139\",\n",
    "    \"L_metabat_L.95.fa\": \"Planctomycetaceae\",\n",
    "    \"LW_10211.fna\": \"GWA1-39-11\",\n",
    "    \"LW_10984.fna\": \"DSSB01\",\n",
    "    \"LW_maxbin_LW.013\": \"Latescibacterales\",\n",
    "    \"LW_maxbin_LW.016\": \"Bacillaceae_C\",\n",
    "    \"LW_maxbin_LW.091\": \"Cyclobacteriaceae\",\n",
    "    \"LW_maxbin_LW.269\": \"Lacipirellulaceae\",\n",
    "    \"LW_maxbin_LW.310\": \"SZUA-584\",\n",
    "    \"LW_metabat_LW.102.fa\": \"JAFGWO01\",\n",
    "    \"LW_metabat_LW.105.fa\": \"QNYZ01\",\n",
    "    \"LW_metabat_LW.111.fa\": \"UBA6522 (e)\",\n",
    "    \"LW_metabat_LW.129.fa\": \"UBA11606\",\n",
    "    \"LW_metabat_LW.136.fa\": \"Alkalibacteraceae\",\n",
    "    \"LW_metabat_LW.149.fa\": \"Balneolaceae (b)\",\n",
    "    \"LW_metabat_LW.17.fa\": \"Promineofilaceae (b)\",\n",
    "    \"LW_metabat_LW.43.fa\": \"Desulfobacterales\",\n",
    "    \"LW_metabat_LW.90.fa\": \"UMGS416\",\n",
    "    \"LW_metabat_LW.95.fa\": \"Anaerolineaceae\",\n",
    "    \"P_18661.fna\": \"Halobacteriales (a)\",\n",
    "    \"P_25546.fna\": \"Hyphomicrobiaceae\",\n",
    "    \"P_25897.fna\": \"JAENVV01\",\n",
    "    \"P_maxbin_P.068\": \"SG8-13 (a)\",\n",
    "    \"P_maxbin_P.091\": \"HXMU1428-3\",\n",
    "    \"P_metabat_P.121.fa\": \"RKSH01\",\n",
    "    \"P_metabat_P.131.fa\": \"SG8-41\",\n",
    "    \"P_metabat_P.37.fa\": \"RKRQ02 (b)\",\n",
    "    \"P_metabat_P.50.fa\": \"Woeseiaceae (b)\",\n",
    "    \"P_metabat_P.57.fa\": \"Halobacteriales (b)\",\n",
    "    \"P_metabat_P.77.fa\": \"SG8-13 (b)\",\n",
    "    \"PW_19550.fna\": \"70-9 (a)\",\n",
    "    \"PW_metabat_PW.84.fa\": \"70-9 (b)\"\n",
    "}"
   ]
  },
  {
   "cell_type": "code",
   "execution_count": 4,
   "metadata": {},
   "outputs": [],
   "source": [
    "order =  ['Sporolactobacillaceae (a)', 'Domibacillaceae', 'Paenibacillaceae', 'UMGS416', 'SZUA-584', 'Latescibacterales', \n",
    "           'GWA1-39-11', 'Alkalibacteraceae', 'Balneolaceae (b)', 'RKRQ02 (b)', 'JABDQX01', 'Micropepsaceae', 'UBA5704 (b)', \n",
    "           'Woeseiaceae (a)', 'UBA6522 (c)', 'UBA6522 (b)', 'UBA6522 (a)', 'UBA5704 (c)', 'Nitrososphaeraceae (b)', 'E44-bin32 (b)', \n",
    "           'Methyloligellaceae', 'GWC2-71-9', 'UBA6522 (d)', 'Nitrososphaeraceae (a)', 'UBA4486', 'Rhodobacteraceae', 'Streptomycetaceae', \n",
    "           'Cyclobacteriaceae', 'Flavobacteriaceae', 'Cellulomonadaceae', 'SM23-39', 'Sporolactobacillaceae (b)', 'Bacillaceae_C',\n",
    "           'Planctomycetaceae', 'QNYZ01', 'UBA6522 (e)', 'SG8-13 (b)', 'SG8-13 (a)', 'Desulfobacterales', 'Promineofilaceae (b)', \n",
    "           'JACQBZ02', 'SG8-38', 'Balneolaceae (a)', 'CECT-8803', 'Lacipirellulaceae', 'Pseudonocardiaceae', 'HXMU1428-3', '70-9 (a)', \n",
    "           'Promineofilaceae (a)', 'UBA8139', 'RKRQ01', 'Halobacteriales (b)', 'SZUA-232', 'J153', 'RKRQ02 (a)', 'UBA5704 (a)', 'JAENVV01',  \n",
    "           'SG8-41', \"Halobacteriales (a)\", \"Nitriliruptoraceae\", \"HGW-15\", \"ZC4RG35 (a)\", \"ZC4RG35 (b)\", \"E44-bin32 (a)\", \"Hyphomicrobiaceae\",\n",
    "           \"Woeseiaceae (b)\", \"70-9 (b)\", \"UBA11606\", \"SZUA-229\", \"RKSH01\", \"JAFGWO01\", \"Jiangellales\", \"Anaerolineaceae\", \"DSSB01\" ]"
   ]
  },
  {
   "cell_type": "markdown",
   "metadata": {},
   "source": [
    "kokegg_countsfixed"
   ]
  },
  {
   "cell_type": "code",
   "execution_count": 5,
   "metadata": {},
   "outputs": [
    {
     "name": "stdout",
     "output_type": "stream",
     "text": [
      "             MAG                        KEGG_ko\n",
      "0   LW_10984.fna                              -\n",
      "1   LW_10984.fna                      ko:K11927\n",
      "2   LW_10984.fna                      ko:K07390\n",
      "3   LW_10984.fna                              -\n",
      "4   LW_10984.fna                      ko:K01462\n",
      "5   LW_10984.fna                      ko:K00604\n",
      "6   LW_10984.fna                      ko:K01783\n",
      "7   LW_10984.fna                              -\n",
      "8   LW_10984.fna                              -\n",
      "9   LW_10984.fna                              -\n",
      "10  LW_10984.fna                      ko:K00864\n",
      "11  LW_10984.fna                      ko:K00013\n",
      "12  LW_10984.fna                      ko:K06213\n",
      "13  LW_10984.fna                              -\n",
      "14  LW_10984.fna                      ko:K00784\n",
      "15  LW_10984.fna                      ko:K00833\n",
      "16  LW_10984.fna                              -\n",
      "17  LW_10984.fna                      ko:K03640\n",
      "18  LW_10984.fna                              -\n",
      "19  LW_10984.fna                      ko:K01409\n",
      "20  LW_10984.fna                      ko:K03716\n",
      "21  LW_10984.fna  ko:K01657,ko:K01665,ko:K13950\n",
      "22  LW_10984.fna                      ko:K08307\n",
      "23  LW_10984.fna                      ko:K03664\n",
      "24  LW_10984.fna                              -\n",
      "25  LW_10984.fna                              -\n",
      "26  LW_10984.fna                              -\n",
      "27  LW_10984.fna                              -\n",
      "28  LW_10984.fna                      ko:K01681\n",
      "29  LW_10984.fna                      ko:K00214\n",
      "30  LW_10984.fna                              -\n",
      "31  LW_10984.fna                      ko:K06188\n",
      "32  LW_10984.fna                              -\n",
      "33  LW_10984.fna                      ko:K00799\n",
      "34  LW_10984.fna                              -\n",
      "35  LW_10984.fna                              -\n",
      "36  LW_10984.fna                              -\n",
      "37  LW_10984.fna                      ko:K09136\n",
      "38  LW_10984.fna                              -\n",
      "39  LW_10984.fna                      ko:K06415\n",
      "40  LW_10984.fna                      ko:K09786\n",
      "41  LW_10984.fna                      ko:K07180\n",
      "42  LW_10984.fna                      ko:K02067\n",
      "43  LW_10984.fna                      ko:K02065\n",
      "44  LW_10984.fna                      ko:K02066\n",
      "45  LW_10984.fna                              -\n",
      "46  LW_10984.fna                      ko:K06997\n",
      "47  LW_10984.fna                      ko:K00286\n",
      "48  LW_10984.fna                      ko:K02221\n",
      "49  LW_10984.fna                      ko:K12132\n"
     ]
    }
   ],
   "source": [
    "#1. Extract KEGG Pathway information\n",
    "kokegg_counts = combined_df[['MAG', 'KEGG_ko']].copy()\n",
    "\n",
    "print(kokegg_counts.head(50))"
   ]
  },
  {
   "cell_type": "code",
   "execution_count": 6,
   "metadata": {},
   "outputs": [],
   "source": [
    "kokegg_counts.set_index('MAG', inplace=True)"
   ]
  },
  {
   "cell_type": "code",
   "execution_count": 7,
   "metadata": {},
   "outputs": [],
   "source": [
    "# Step 2: Construct a table where MAGs are represented as rows and KEGG_ko annotations as columns.\n",
    "# The counts are adjusted to account for multiple KEGG_ko annotations per CDS within a MAG.\n",
    "# Specifically, if a CDS in a MAG is annotated with multiple KEGG_ko entries \n",
    "# (e.g., \"ko:K01657,ko:K01665,ko:K13950\") multiple times, the count is distributed \n",
    "# equally among the annotated KEGG_kos. This prevents overestimation of individual KEGG_ko occurrences.\n",
    "\n",
    "#Remove rows where KEGG_ko is \"-\"\n",
    "kokegg_countsfixed = kokegg_counts[kokegg_counts[\"KEGG_ko\"] != \"-\"]\n",
    "\n",
    "#Initialize a dictionary to store the counts\n",
    "ko_counts = {}\n",
    "\n",
    "#Iterate through the DataFrame\n",
    "for index, row in kokegg_countsfixed.iterrows():\n",
    "    mag = index  # Extract MAG (from index)\n",
    "    pathways = row[\"KEGG_ko\"].split(\",\")  # Split multiple KOs\n",
    "    \n",
    "    num_pathways = len(pathways)  # Number of KOs\n",
    "    \n",
    "    if mag not in ko_counts:\n",
    "        ko_counts[mag] = {}\n",
    "    \n",
    "    # Step 4: Distribute the count across pathways\n",
    "    for pathway in pathways:\n",
    "        if pathway not in ko_counts[mag]:\n",
    "            ko_counts[mag][pathway] = 0\n",
    "        \n",
    "        distributed_count = 1 / num_pathways  # Even distribution\n",
    "        ko_counts[mag][pathway] += distributed_count\n",
    "\n",
    "#Convert to DataFrame\n",
    "kokegg_countsfixed = pd.DataFrame.from_dict(ko_counts, orient='index').fillna(0)"
   ]
  },
  {
   "cell_type": "code",
   "execution_count": 8,
   "metadata": {},
   "outputs": [
    {
     "name": "stdout",
     "output_type": "stream",
     "text": [
      "                     ko:K11927  ko:K07390  ko:K01462  ko:K00604  ko:K01783  \\\n",
      "LW_10984.fna               2.0        1.0        1.0        1.0        1.0   \n",
      "C_metabat_C.60.fa          1.0        0.0        2.0        1.0        1.0   \n",
      "L_metabat_L.119.fa         1.0        0.0        1.0        1.0        1.0   \n",
      "L_metabat_L.121.fa         1.0        0.0        1.0        1.0        1.0   \n",
      "LW_metabat_LW.43.fa        1.0        0.0        0.5        1.0        1.0   \n",
      "\n",
      "                     ko:K00864  ko:K00013  ko:K06213  ko:K00784  ko:K00833  \\\n",
      "LW_10984.fna               1.0        1.0        2.0        1.0        1.0   \n",
      "C_metabat_C.60.fa          0.0        0.0        3.0        2.0        0.0   \n",
      "L_metabat_L.119.fa         1.0        1.0        1.0        2.0        0.0   \n",
      "L_metabat_L.121.fa         0.0        0.0        1.0        1.0        1.0   \n",
      "LW_metabat_LW.43.fa        1.0        1.0        0.0        1.0        0.0   \n",
      "\n",
      "                     ...  ko:K12963  ko:K01261  ko:K18652  ko:K14331  \\\n",
      "LW_10984.fna         ...        0.0        0.0        0.0        0.0   \n",
      "C_metabat_C.60.fa    ...        0.0        0.0        0.0        0.0   \n",
      "L_metabat_L.119.fa   ...        0.0        0.0        0.0        0.0   \n",
      "L_metabat_L.121.fa   ...        0.0        0.0        0.0        0.0   \n",
      "LW_metabat_LW.43.fa  ...        0.0        0.0        0.0        0.0   \n",
      "\n",
      "                     ko:K05836  ko:K08659  ko:K14379  ko:K08176  ko:K00701  \\\n",
      "LW_10984.fna               0.0        0.0        0.0        0.0        0.0   \n",
      "C_metabat_C.60.fa          0.0        0.0        0.0        0.0        0.0   \n",
      "L_metabat_L.119.fa         0.0        0.0        0.0        0.0        0.0   \n",
      "L_metabat_L.121.fa         0.0        0.0        0.0        0.0        0.0   \n",
      "LW_metabat_LW.43.fa        0.0        0.0        0.0        0.0        0.0   \n",
      "\n",
      "                     ko:K07862  \n",
      "LW_10984.fna               0.0  \n",
      "C_metabat_C.60.fa          0.0  \n",
      "L_metabat_L.119.fa         0.0  \n",
      "L_metabat_L.121.fa         0.0  \n",
      "LW_metabat_LW.43.fa        0.0  \n",
      "\n",
      "[5 rows x 6500 columns]\n"
     ]
    }
   ],
   "source": [
    "print(kokegg_countsfixed.head())"
   ]
  },
  {
   "cell_type": "code",
   "execution_count": 9,
   "metadata": {},
   "outputs": [
    {
     "name": "stdout",
     "output_type": "stream",
     "text": [
      "Index(['DSSB01', 'UBA5704 (b)', 'Flavobacteriaceae', 'Streptomycetaceae',\n",
      "       'Desulfobacterales', 'SZUA-229', 'UBA5704 (a)', 'SG8-41',\n",
      "       'Cellulomonadaceae', 'Planctomycetaceae', 'HXMU1428-3', 'CECT-8803',\n",
      "       'JACQBZ02', 'Latescibacterales', 'Hyphomicrobiaceae',\n",
      "       'Nitriliruptoraceae', 'Rhodobacteraceae', 'Cyclobacteriaceae',\n",
      "       'UBA6522 (c)', 'J153', 'RKRQ01', 'RKRQ02 (b)', '70-9 (b)',\n",
      "       'Micropepsaceae', 'RKSH01', 'SG8-38', 'UBA6522 (d)', 'RKRQ02 (a)',\n",
      "       'SM23-39', 'UBA6522 (a)', 'Halobacteriales (a)', 'Methyloligellaceae',\n",
      "       'JABDQX01', 'UBA6522 (b)', '70-9 (a)', 'Sporolactobacillaceae (b)',\n",
      "       'Woeseiaceae (b)', 'Bacillaceae_C', 'ZC4RG35 (b)',\n",
      "       'Sporolactobacillaceae (a)', 'JAFGWO01', 'Paenibacillaceae', 'UBA8139',\n",
      "       'Pseudonocardiaceae', 'UBA6522 (e)', 'GWA1-39-11', 'UBA5704 (c)',\n",
      "       'E44-bin32 (b)', 'HGW-15', 'Anaerolineaceae', 'JAENVV01', 'QNYZ01',\n",
      "       'Promineofilaceae (b)', 'E44-bin32 (a)', 'Domibacillaceae',\n",
      "       'Promineofilaceae (a)', 'Alkalibacteraceae', 'GWC2-71-9',\n",
      "       'Balneolaceae (b)', 'SZUA-232', 'Balneolaceae (a)', 'Lacipirellulaceae',\n",
      "       'ZC4RG35 (a)', 'UBA4486', 'UBA11606', 'Halobacteriales (b)', 'UMGS416',\n",
      "       'Woeseiaceae (a)', 'SG8-13 (a)', 'SG8-13 (b)', 'Jiangellales',\n",
      "       'Nitrososphaeraceae (a)', 'Nitrososphaeraceae (b)', 'SZUA-584'],\n",
      "      dtype='object')\n"
     ]
    }
   ],
   "source": [
    "#3. Replace names\n",
    "\n",
    "# Replace MAG names with taxon names\n",
    "kokegg_countsfixed.index = kokegg_countsfixed.index.map(mag_to_taxon)\n",
    "\n",
    "print(kokegg_countsfixed.index)"
   ]
  },
  {
   "cell_type": "code",
   "execution_count": 10,
   "metadata": {},
   "outputs": [
    {
     "name": "stdout",
     "output_type": "stream",
     "text": [
      "                           ko:K11927  ko:K07390  ko:K01462  ko:K00604  \\\n",
      "Sporolactobacillaceae (a)        0.0        0.0        1.0        1.0   \n",
      "Domibacillaceae                  0.0        0.0        1.0        1.0   \n",
      "Paenibacillaceae                 0.0        0.0        1.0        1.0   \n",
      "UMGS416                          0.0        0.0        0.0        1.0   \n",
      "SZUA-584                         0.0        0.0        0.0        0.0   \n",
      "\n",
      "                           ko:K01783  ko:K00864  ko:K00013  ko:K06213  \\\n",
      "Sporolactobacillaceae (a)        2.0        0.0        0.5        0.0   \n",
      "Domibacillaceae                  1.0        0.0        0.0        0.0   \n",
      "Paenibacillaceae                 0.0        0.0        0.0        0.0   \n",
      "UMGS416                          0.0        1.0        1.0        0.0   \n",
      "SZUA-584                         0.0        0.0        0.0        0.0   \n",
      "\n",
      "                           ko:K00784  ko:K00833  ...  ko:K12963  ko:K01261  \\\n",
      "Sporolactobacillaceae (a)        0.0        0.0  ...        0.0        0.0   \n",
      "Domibacillaceae                  1.0        0.0  ...        0.0        0.0   \n",
      "Paenibacillaceae                 0.0        0.0  ...        0.0        0.0   \n",
      "UMGS416                          0.0        0.0  ...        0.0        0.0   \n",
      "SZUA-584                         0.0        0.0  ...        0.0        0.0   \n",
      "\n",
      "                           ko:K18652  ko:K14331  ko:K05836  ko:K08659  \\\n",
      "Sporolactobacillaceae (a)        0.0        0.0        0.0        0.0   \n",
      "Domibacillaceae                  0.0        0.0        0.0        0.0   \n",
      "Paenibacillaceae                 0.0        0.0        0.0        0.0   \n",
      "UMGS416                          0.0        0.0        0.0        0.0   \n",
      "SZUA-584                         0.0        0.0        0.0        0.0   \n",
      "\n",
      "                           ko:K14379  ko:K08176  ko:K00701  ko:K07862  \n",
      "Sporolactobacillaceae (a)        0.0        0.0        0.0        0.0  \n",
      "Domibacillaceae                  0.0        0.0        0.0        0.0  \n",
      "Paenibacillaceae                 0.0        0.0        0.0        0.0  \n",
      "UMGS416                          0.0        0.0        0.0        0.0  \n",
      "SZUA-584                         0.0        0.0        0.0        0.0  \n",
      "\n",
      "[5 rows x 6500 columns]\n"
     ]
    }
   ],
   "source": [
    "#4. Reorder\n",
    "\n",
    "# Reorder the DataFrame based on the specified taxon order\n",
    "kokegg_countsfixed = kokegg_countsfixed.reindex(order)\n",
    "# Check the updated DataFrame\n",
    "print(kokegg_countsfixed.head())"
   ]
  },
  {
   "cell_type": "code",
   "execution_count": 14,
   "metadata": {},
   "outputs": [],
   "source": [
    "#5. Save files\n",
    "\n",
    "# Save the combined dataframe to a new file\n",
    "kokegg_countsfixed.to_csv(\"kokegg_countsfixedd.tsv\", sep='\\t')\n",
    "kokegg_countsfixed.to_csv(\"kokegg_countsfixedd.csv\")"
   ]
  },
  {
   "cell_type": "code",
   "execution_count": 53,
   "metadata": {},
   "outputs": [
    {
     "name": "stdout",
     "output_type": "stream",
     "text": [
      "The value in row 'DSSB01' and column 'ko:K01657' is: 1.3333333333333333\n"
     ]
    }
   ],
   "source": [
    "#This is a verification for the creation of the adjusted table. I manually did the calculation with one KEGG_Ko and checked if\n",
    "# the value in the table made in this script was correct.\n",
    "\n",
    "try:\n",
    "    value = kokegg_countsfixed.loc['DSSB01', 'ko:K01657']\n",
    "    \n",
    "    # Check if the value was found and display it\n",
    "    if pd.notna(value):  # Check if the value is not NaN\n",
    "        print(f\"The value in row 'DSSB01' and column 'ko:K01657' is: {value}\")\n",
    "    else:\n",
    "        print(\"The value is NaN for row 'DSSB01' and column 'ko:K01657'.\")\n",
    "except KeyError:\n",
    "    print(\"Row 'DSSB01' not found.\")"
   ]
  },
  {
   "cell_type": "markdown",
   "metadata": {},
   "source": [
    "Now that we have the table with KEGG KO counts per MAG, a normalization should be made to account for the completeness of each MAG."
   ]
  },
  {
   "cell_type": "code",
   "execution_count": 42,
   "metadata": {},
   "outputs": [],
   "source": [
    "completitud=pd.read_csv('completitud.tsv', sep=\"\\t\")"
   ]
  },
  {
   "cell_type": "code",
   "execution_count": 43,
   "metadata": {},
   "outputs": [],
   "source": [
    "completitud.set_index('MAG', inplace=True)"
   ]
  },
  {
   "cell_type": "code",
   "execution_count": 44,
   "metadata": {},
   "outputs": [
    {
     "name": "stdout",
     "output_type": "stream",
     "text": [
      "                      Completeness\n",
      "MAG                               \n",
      "70-9 (a)                    0.9612\n",
      "70-9 (b)                    0.7069\n",
      "Promineofilaceae (a)        0.6737\n",
      "JABDQX01                    0.7771\n",
      "UBA6522 (d)                 0.5504\n"
     ]
    }
   ],
   "source": [
    "print(completitud.head())"
   ]
  },
  {
   "cell_type": "code",
   "execution_count": 54,
   "metadata": {},
   "outputs": [
    {
     "name": "stdout",
     "output_type": "stream",
     "text": [
      "All MAG values in the KO matrix exist in the completeness data.\n"
     ]
    }
   ],
   "source": [
    "# Find the common MAG values\n",
    "common_mags = kokegg_countsfixed.index.intersection(completitud.index)\n",
    "\n",
    "# Find the MAG values in KO matrix that are NOT in completeness data\n",
    "missing_in_completeness = kokegg_countsfixed.index.difference(completitud.index)\n",
    "\n",
    "# Print the results\n",
    "if missing_in_completeness.empty:\n",
    "    print(\"All MAG values in the KO matrix exist in the completeness data.\")\n",
    "else:\n",
    "    print(\"The following MAG values are missing in the completeness data:\")\n",
    "    print(missing_in_completeness)"
   ]
  },
  {
   "cell_type": "code",
   "execution_count": 55,
   "metadata": {},
   "outputs": [
    {
     "name": "stdout",
     "output_type": "stream",
     "text": [
      "                   ko:K11927  ko:K07390  ko:K01462  ko:K00604  ko:K01783  \\\n",
      "70-9 (a)                 0.0   1.040366   1.040366   2.080732   1.040366   \n",
      "70-9 (b)                 0.0   1.414627   1.414627   1.414627   1.414627   \n",
      "Alkalibacteraceae        0.0   0.000000   1.163873   1.163873   1.163873   \n",
      "Anaerolineaceae          0.0   0.000000   1.499925   1.499925   2.999850   \n",
      "Bacillaceae_C            0.0   0.000000   1.149690   1.149690   2.299379   \n",
      "...                      ...        ...        ...        ...        ...   \n",
      "UMGS416                  0.0   0.000000   0.000000   1.479071   0.000000   \n",
      "Woeseiaceae (a)          0.0   0.000000   0.000000   1.714972   1.714972   \n",
      "Woeseiaceae (b)          0.0   1.313198   1.313198   1.313198   1.313198   \n",
      "ZC4RG35 (a)              0.0   0.000000   2.525571   1.262786   1.262786   \n",
      "ZC4RG35 (b)              0.0   0.000000   2.777392   1.388696   0.000000   \n",
      "\n",
      "                   ko:K00864  ko:K00013  ko:K06213  ko:K00784  ko:K00833  ...  \\\n",
      "70-9 (a)            0.000000   1.040366   0.000000   1.040366   1.040366  ...   \n",
      "70-9 (b)            1.414627   0.000000   1.414627   2.829254   0.000000  ...   \n",
      "Alkalibacteraceae   1.163873   1.163873   1.163873   0.000000   0.000000  ...   \n",
      "Anaerolineaceae     0.000000   0.000000   0.000000   1.499925   0.000000  ...   \n",
      "Bacillaceae_C       0.000000   0.574845   0.000000   2.299379   0.000000  ...   \n",
      "...                      ...        ...        ...        ...        ...  ...   \n",
      "UMGS416             1.479071   1.479071   0.000000   0.000000   0.000000  ...   \n",
      "Woeseiaceae (a)     1.714972   1.714972   1.714972   0.000000   0.000000  ...   \n",
      "Woeseiaceae (b)     1.313198   0.000000   2.626395   0.000000   0.000000  ...   \n",
      "ZC4RG35 (a)         1.262786   2.525571   1.262786   0.000000   0.000000  ...   \n",
      "ZC4RG35 (b)         0.000000   1.388696   2.777392   1.388696   0.000000  ...   \n",
      "\n",
      "                   ko:K12963  ko:K01261  ko:K18652  ko:K14331  ko:K05836  \\\n",
      "70-9 (a)                 0.0        0.0   0.000000   0.000000   0.000000   \n",
      "70-9 (b)                 0.0        0.0   0.000000   0.000000   0.000000   \n",
      "Alkalibacteraceae        0.0        0.0   0.000000   0.000000   0.000000   \n",
      "Anaerolineaceae          0.0        0.0   0.000000   0.000000   0.000000   \n",
      "Bacillaceae_C            0.0        0.0   0.000000   0.000000   0.000000   \n",
      "...                      ...        ...        ...        ...        ...   \n",
      "UMGS416                  0.0        0.0   0.000000   0.000000   0.000000   \n",
      "Woeseiaceae (a)          0.0        0.0   0.000000   0.000000   0.000000   \n",
      "Woeseiaceae (b)          0.0        0.0   1.313198   1.313198   1.313198   \n",
      "ZC4RG35 (a)              0.0        0.0   0.000000   0.000000   0.000000   \n",
      "ZC4RG35 (b)              0.0        0.0   0.000000   0.000000   0.000000   \n",
      "\n",
      "                   ko:K08659  ko:K14379  ko:K08176  ko:K00701  ko:K07862  \n",
      "70-9 (a)            0.000000   0.000000   0.000000   0.000000   0.000000  \n",
      "70-9 (b)            0.000000   0.000000   0.000000   0.000000   0.000000  \n",
      "Alkalibacteraceae   0.000000   0.000000   0.000000   0.000000   0.000000  \n",
      "Anaerolineaceae     0.000000   0.000000   0.000000   0.000000   0.000000  \n",
      "Bacillaceae_C       0.000000   0.000000   0.000000   0.000000   0.000000  \n",
      "...                      ...        ...        ...        ...        ...  \n",
      "UMGS416             0.000000   0.000000   0.000000   0.000000   0.000000  \n",
      "Woeseiaceae (a)     0.000000   0.000000   0.000000   0.000000   0.000000  \n",
      "Woeseiaceae (b)     1.313198   1.313198   1.313198   1.313198   1.313198  \n",
      "ZC4RG35 (a)         0.000000   0.000000   0.000000   0.000000   0.000000  \n",
      "ZC4RG35 (b)         0.000000   0.000000   0.000000   0.000000   0.000000  \n",
      "\n",
      "[74 rows x 6500 columns]\n"
     ]
    }
   ],
   "source": [
    "# Divide each value in the KO data by the corresponding completeness value\n",
    "normalized_ko_data = kokegg_countsfixed.div(completitud['Completeness'], axis=0)\n",
    "\n",
    "# Display the result\n",
    "print(normalized_ko_data)"
   ]
  },
  {
   "cell_type": "markdown",
   "metadata": {},
   "source": [
    "Now, lets add the categories found in script Categorization.ipynb from Taxonomic_classification"
   ]
  },
  {
   "cell_type": "code",
   "execution_count": 56,
   "metadata": {},
   "outputs": [],
   "source": [
    "categories=pd.read_csv('categorías_signif.tsv', sep=\"\\t\")"
   ]
  },
  {
   "cell_type": "code",
   "execution_count": 57,
   "metadata": {},
   "outputs": [],
   "source": [
    "categories.set_index('MAG', inplace=True)"
   ]
  },
  {
   "cell_type": "code",
   "execution_count": 58,
   "metadata": {},
   "outputs": [
    {
     "name": "stdout",
     "output_type": "stream",
     "text": [
      "                          Diferencias\n",
      "MAG                                  \n",
      "Sporolactobacillaceae (a)           A\n",
      "Domibacillaceae                     A\n",
      "Paenibacillaceae                    A\n",
      "UMGS416                             A\n",
      "SZUA-584                            A\n"
     ]
    }
   ],
   "source": [
    "print(categories.head())"
   ]
  },
  {
   "cell_type": "markdown",
   "metadata": {},
   "source": [
    "PCoA Jaccard"
   ]
  },
  {
   "cell_type": "code",
   "execution_count": 63,
   "metadata": {},
   "outputs": [],
   "source": [
    "import pandas as pd\n",
    "import matplotlib.pyplot as plt\n",
    "import seaborn as sns\n",
    "import numpy as np\n",
    "import matplotlib.patches as mpatches\n",
    "from skbio.diversity import beta_diversity\n",
    "from skbio.stats.ordination import pcoa"
   ]
  },
  {
   "cell_type": "code",
   "execution_count": 64,
   "metadata": {},
   "outputs": [],
   "source": [
    "# Compute the Jaccard distance matrix\n",
    "distance_matrix = beta_diversity('jaccard', normalized_ko_data.values, ids=normalized_ko_data.index)\n",
    "\n",
    "# Perform PCoA on the Jaccard distance matrix\n",
    "pcoa_results = pcoa(distance_matrix)\n",
    "\n",
    "# Create a DataFrame for the PCoA results\n",
    "pcoa_df = pd.DataFrame(pcoa_results.samples[['PC1', 'PC2']], index=normalized_ko_data.index)"
   ]
  },
  {
   "cell_type": "code",
   "execution_count": 65,
   "metadata": {},
   "outputs": [
    {
     "name": "stdout",
     "output_type": "stream",
     "text": [
      "                        PC1       PC2\n",
      "70-9 (a)          -0.045708 -0.150368\n",
      "70-9 (b)          -0.082499 -0.075024\n",
      "Alkalibacteraceae -0.087226  0.029373\n",
      "Anaerolineaceae   -0.153629 -0.035146\n",
      "Bacillaceae_C     -0.163120  0.035422\n"
     ]
    }
   ],
   "source": [
    "print(pcoa_df.head())"
   ]
  },
  {
   "cell_type": "code",
   "execution_count": 66,
   "metadata": {},
   "outputs": [],
   "source": [
    "# Merge the PCoA results with the categories\n",
    "merged_df = pd.merge(pcoa_df, categories, left_index=True, right_index=True)\n",
    "\n",
    "# Define Colors Based on Categories\n",
    "category_colors = {\n",
    "    'A': \"#73AF87\",\n",
    "    'B': \"#295B6A\",\n",
    "    'C': \"#AA822B\",\n",
    "    'D': \"#93C1C2\",\n",
    "    'E': \"#B1633A\",\n",
    "    'F': \"#A6A6A6\"\n",
    "}\n",
    "\n",
    "# Map the colors to the 'Diferencias' categories\n",
    "merged_df['Color'] = merged_df['Diferencias'].map(category_colors)"
   ]
  },
  {
   "cell_type": "code",
   "execution_count": 67,
   "metadata": {},
   "outputs": [
    {
     "name": "stderr",
     "output_type": "stream",
     "text": [
      "/hpcfs/home/ciencias_biologicas/mf.penav1/.miniforge/envs/python/lib/python3.12/site-packages/matplotlib/patches.py:1638: FutureWarning: Series.__getitem__ treating keys as positions is deprecated. In a future version, integer keys will always be treated as labels (consistent with DataFrame behavior). To access a value by position, use `ser.iloc[pos]`\n",
      "  center = (self.convert_xunits(self._center[0]),\n",
      "/hpcfs/home/ciencias_biologicas/mf.penav1/.miniforge/envs/python/lib/python3.12/site-packages/matplotlib/patches.py:1639: FutureWarning: Series.__getitem__ treating keys as positions is deprecated. In a future version, integer keys will always be treated as labels (consistent with DataFrame behavior). To access a value by position, use `ser.iloc[pos]`\n",
      "  self.convert_yunits(self._center[1]))\n",
      "/hpcfs/home/ciencias_biologicas/mf.penav1/.miniforge/envs/python/lib/python3.12/site-packages/matplotlib/patches.py:1638: FutureWarning: Series.__getitem__ treating keys as positions is deprecated. In a future version, integer keys will always be treated as labels (consistent with DataFrame behavior). To access a value by position, use `ser.iloc[pos]`\n",
      "  center = (self.convert_xunits(self._center[0]),\n",
      "/hpcfs/home/ciencias_biologicas/mf.penav1/.miniforge/envs/python/lib/python3.12/site-packages/matplotlib/patches.py:1639: FutureWarning: Series.__getitem__ treating keys as positions is deprecated. In a future version, integer keys will always be treated as labels (consistent with DataFrame behavior). To access a value by position, use `ser.iloc[pos]`\n",
      "  self.convert_yunits(self._center[1]))\n",
      "/hpcfs/home/ciencias_biologicas/mf.penav1/.miniforge/envs/python/lib/python3.12/site-packages/matplotlib/patches.py:1638: FutureWarning: Series.__getitem__ treating keys as positions is deprecated. In a future version, integer keys will always be treated as labels (consistent with DataFrame behavior). To access a value by position, use `ser.iloc[pos]`\n",
      "  center = (self.convert_xunits(self._center[0]),\n",
      "/hpcfs/home/ciencias_biologicas/mf.penav1/.miniforge/envs/python/lib/python3.12/site-packages/matplotlib/patches.py:1639: FutureWarning: Series.__getitem__ treating keys as positions is deprecated. In a future version, integer keys will always be treated as labels (consistent with DataFrame behavior). To access a value by position, use `ser.iloc[pos]`\n",
      "  self.convert_yunits(self._center[1]))\n",
      "/hpcfs/home/ciencias_biologicas/mf.penav1/.miniforge/envs/python/lib/python3.12/site-packages/matplotlib/patches.py:1638: FutureWarning: Series.__getitem__ treating keys as positions is deprecated. In a future version, integer keys will always be treated as labels (consistent with DataFrame behavior). To access a value by position, use `ser.iloc[pos]`\n",
      "  center = (self.convert_xunits(self._center[0]),\n",
      "/hpcfs/home/ciencias_biologicas/mf.penav1/.miniforge/envs/python/lib/python3.12/site-packages/matplotlib/patches.py:1639: FutureWarning: Series.__getitem__ treating keys as positions is deprecated. In a future version, integer keys will always be treated as labels (consistent with DataFrame behavior). To access a value by position, use `ser.iloc[pos]`\n",
      "  self.convert_yunits(self._center[1]))\n",
      "/hpcfs/home/ciencias_biologicas/mf.penav1/.miniforge/envs/python/lib/python3.12/site-packages/matplotlib/patches.py:1638: FutureWarning: Series.__getitem__ treating keys as positions is deprecated. In a future version, integer keys will always be treated as labels (consistent with DataFrame behavior). To access a value by position, use `ser.iloc[pos]`\n",
      "  center = (self.convert_xunits(self._center[0]),\n",
      "/hpcfs/home/ciencias_biologicas/mf.penav1/.miniforge/envs/python/lib/python3.12/site-packages/matplotlib/patches.py:1639: FutureWarning: Series.__getitem__ treating keys as positions is deprecated. In a future version, integer keys will always be treated as labels (consistent with DataFrame behavior). To access a value by position, use `ser.iloc[pos]`\n",
      "  self.convert_yunits(self._center[1]))\n",
      "/hpcfs/home/ciencias_biologicas/mf.penav1/.miniforge/envs/python/lib/python3.12/site-packages/matplotlib/patches.py:1638: FutureWarning: Series.__getitem__ treating keys as positions is deprecated. In a future version, integer keys will always be treated as labels (consistent with DataFrame behavior). To access a value by position, use `ser.iloc[pos]`\n",
      "  center = (self.convert_xunits(self._center[0]),\n",
      "/hpcfs/home/ciencias_biologicas/mf.penav1/.miniforge/envs/python/lib/python3.12/site-packages/matplotlib/patches.py:1639: FutureWarning: Series.__getitem__ treating keys as positions is deprecated. In a future version, integer keys will always be treated as labels (consistent with DataFrame behavior). To access a value by position, use `ser.iloc[pos]`\n",
      "  self.convert_yunits(self._center[1]))\n",
      "/tmp/ipykernel_2201111/689279362.py:27: FutureWarning: Series.__getitem__ treating keys as positions is deprecated. In a future version, integer keys will always be treated as labels (consistent with DataFrame behavior). To access a value by position, use `ser.iloc[pos]`\n",
      "  plt.xlabel(f'PCoA 1 ({pcoa_results.proportion_explained[0] * 100:.2f}%)')\n",
      "/tmp/ipykernel_2201111/689279362.py:28: FutureWarning: Series.__getitem__ treating keys as positions is deprecated. In a future version, integer keys will always be treated as labels (consistent with DataFrame behavior). To access a value by position, use `ser.iloc[pos]`\n",
      "  plt.ylabel(f'PCoA 2 ({pcoa_results.proportion_explained[1] * 100:.2f}%)')\n"
     ]
    },
    {
     "data": {
      "image/png": "[encoded data removed]",
      "text/plain": [
       "<Figure size 1000x600 with 1 Axes>"
      ]
     },
     "metadata": {},
     "output_type": "display_data"
    }
   ],
   "source": [
    "# Plot PCoA with Ellipses\n",
    "\n",
    "plt.figure(figsize=(10, 6))\n",
    "\n",
    "# Plot points colored by category\n",
    "sns.scatterplot(data=merged_df, x='PC1', y='PC2', hue='Diferencias', palette=category_colors, s=100, alpha=0.7)\n",
    "\n",
    "# Create ellipses for each category\n",
    "for level in merged_df['Diferencias'].unique():\n",
    "    subset = merged_df[merged_df['Diferencias'] == level]\n",
    "    if len(subset) > 1:  # Only attempt to create ellipses if there are enough points\n",
    "        cov = np.cov(subset[['PC1', 'PC2']].values.T)\n",
    "        mean = subset[['PC1', 'PC2']].mean()\n",
    "        eigvals, eigvecs = np.linalg.eigh(cov)\n",
    "        order = eigvals.argsort()[::-1]\n",
    "        eigvals, eigvecs = eigvals[order], eigvecs[:, order]\n",
    "        angle = np.degrees(np.arctan2(*eigvecs[:, 0][::-1]))\n",
    "        width, height = 2 * np.sqrt(eigvals)  # Width and height are 2 standard deviations\n",
    "        ellipse = mpatches.Ellipse(mean, width, height, angle=angle, color=category_colors[level], alpha=0.2)\n",
    "        plt.gca().add_patch(ellipse)\n",
    "        \n",
    "\n",
    "# Adjust the legend position\n",
    "plt.legend(title='Diferencias', bbox_to_anchor=(1.05, 1), loc='upper left', frameon=True)\n",
    "\n",
    "plt.title('PCoA with Jaccard Distance and Ellipses for Each Category')\n",
    "plt.xlabel(f'PCoA 1 ({pcoa_results.proportion_explained[0] * 100:.2f}%)')\n",
    "plt.ylabel(f'PCoA 2 ({pcoa_results.proportion_explained[1] * 100:.2f}%)')\n",
    "plt.grid(True)\n",
    "plt.tight_layout()\n",
    "plt.show()"
   ]
  },
  {
   "cell_type": "code",
   "execution_count": 68,
   "metadata": {},
   "outputs": [
    {
     "name": "stdout",
     "output_type": "stream",
     "text": [
      "Explained variance by each principal coordinate:\n",
      "Principal Coordinate 1: 0.0824\n",
      "Principal Coordinate 2: 0.0671\n",
      "Principal Coordinate 3: 0.0525\n",
      "Principal Coordinate 4: 0.0462\n",
      "Principal Coordinate 5: 0.0400\n",
      "Principal Coordinate 6: 0.0353\n",
      "Principal Coordinate 7: 0.0315\n",
      "Principal Coordinate 8: 0.0266\n",
      "Principal Coordinate 9: 0.0253\n",
      "Principal Coordinate 10: 0.0227\n",
      "Principal Coordinate 11: 0.0211\n",
      "Principal Coordinate 12: 0.0196\n",
      "Principal Coordinate 13: 0.0193\n",
      "Principal Coordinate 14: 0.0179\n",
      "Principal Coordinate 15: 0.0172\n",
      "Principal Coordinate 16: 0.0166\n",
      "Principal Coordinate 17: 0.0160\n",
      "Principal Coordinate 18: 0.0155\n",
      "Principal Coordinate 19: 0.0150\n",
      "Principal Coordinate 20: 0.0143\n",
      "Principal Coordinate 21: 0.0140\n",
      "Principal Coordinate 22: 0.0134\n",
      "Principal Coordinate 23: 0.0130\n",
      "Principal Coordinate 24: 0.0125\n",
      "Principal Coordinate 25: 0.0120\n",
      "Principal Coordinate 26: 0.0117\n",
      "Principal Coordinate 27: 0.0115\n",
      "Principal Coordinate 28: 0.0113\n",
      "Principal Coordinate 29: 0.0111\n",
      "Principal Coordinate 30: 0.0110\n",
      "Principal Coordinate 31: 0.0106\n",
      "Principal Coordinate 32: 0.0104\n",
      "Principal Coordinate 33: 0.0102\n",
      "Principal Coordinate 34: 0.0100\n",
      "Principal Coordinate 35: 0.0097\n",
      "Principal Coordinate 36: 0.0093\n",
      "Principal Coordinate 37: 0.0091\n",
      "Principal Coordinate 38: 0.0089\n",
      "Principal Coordinate 39: 0.0088\n",
      "Principal Coordinate 40: 0.0085\n",
      "Principal Coordinate 41: 0.0084\n",
      "Principal Coordinate 42: 0.0081\n",
      "Principal Coordinate 43: 0.0079\n",
      "Principal Coordinate 44: 0.0077\n",
      "Principal Coordinate 45: 0.0075\n",
      "Principal Coordinate 46: 0.0074\n",
      "Principal Coordinate 47: 0.0072\n",
      "Principal Coordinate 48: 0.0071\n",
      "Principal Coordinate 49: 0.0066\n",
      "Principal Coordinate 50: 0.0066\n",
      "Principal Coordinate 51: 0.0065\n",
      "Principal Coordinate 52: 0.0063\n",
      "Principal Coordinate 53: 0.0062\n",
      "Principal Coordinate 54: 0.0058\n",
      "Principal Coordinate 55: 0.0058\n",
      "Principal Coordinate 56: 0.0056\n",
      "Principal Coordinate 57: 0.0056\n",
      "Principal Coordinate 58: 0.0053\n",
      "Principal Coordinate 59: 0.0051\n",
      "Principal Coordinate 60: 0.0049\n",
      "Principal Coordinate 61: 0.0048\n",
      "Principal Coordinate 62: 0.0046\n",
      "Principal Coordinate 63: 0.0045\n",
      "Principal Coordinate 64: 0.0044\n",
      "Principal Coordinate 65: 0.0043\n",
      "Principal Coordinate 66: 0.0040\n",
      "Principal Coordinate 67: 0.0039\n",
      "Principal Coordinate 68: 0.0038\n",
      "Principal Coordinate 69: 0.0037\n",
      "Principal Coordinate 70: 0.0033\n",
      "Principal Coordinate 71: 0.0030\n",
      "Principal Coordinate 72: 0.0027\n",
      "Principal Coordinate 73: 0.0025\n",
      "Principal Coordinate 74: 0.0000\n",
      "Principal Coordinate 1 explains 0.0824 of the variance.\n",
      "Principal Coordinate 2 explains 0.0671 of the variance.\n"
     ]
    },
    {
     "name": "stderr",
     "output_type": "stream",
     "text": [
      "/tmp/ipykernel_2201111/3704657504.py:9: FutureWarning: Series.__getitem__ treating keys as positions is deprecated. In a future version, integer keys will always be treated as labels (consistent with DataFrame behavior). To access a value by position, use `ser.iloc[pos]`\n",
      "  print(f\"Principal Coordinate 1 explains {explained_variance[0]:.4f} of the variance.\")\n",
      "/tmp/ipykernel_2201111/3704657504.py:10: FutureWarning: Series.__getitem__ treating keys as positions is deprecated. In a future version, integer keys will always be treated as labels (consistent with DataFrame behavior). To access a value by position, use `ser.iloc[pos]`\n",
      "  print(f\"Principal Coordinate 2 explains {explained_variance[1]:.4f} of the variance.\")\n"
     ]
    }
   ],
   "source": [
    "explained_variance = pcoa_result.proportion_explained\n",
    "\n",
    "# Display explained variance for each principal coordinate (PCoA axis)\n",
    "print(\"Explained variance by each principal coordinate:\")\n",
    "for i, variance in enumerate(explained_variance):\n",
    "    print(f\"Principal Coordinate {i+1}: {variance:.4f}\")\n",
    "\n",
    "# Alternatively, display only the first two PCoA axes\n",
    "print(f\"Principal Coordinate 1 explains {explained_variance[0]:.4f} of the variance.\")\n",
    "print(f\"Principal Coordinate 2 explains {explained_variance[1]:.4f} of the variance.\")"
   ]
  },
  {
   "cell_type": "code",
   "execution_count": 69,
   "metadata": {},
   "outputs": [
    {
     "name": "stdout",
     "output_type": "stream",
     "text": [
      "Pairwise distances between category centroids:\n",
      " Diferencias         A         B         C         D         E         F\n",
      "Diferencias                                                            \n",
      "A            0.000000  0.217466  0.159744  0.207926  0.172500  0.224546\n",
      "B            0.217466  0.000000  0.145152  0.079535  0.128512  0.148446\n",
      "C            0.159744  0.145152  0.000000  0.080713  0.020753  0.065395\n",
      "D            0.207926  0.079535  0.080713  0.000000  0.060326  0.068915\n",
      "E            0.172500  0.128512  0.020753  0.060326  0.000000  0.053051\n",
      "F            0.224546  0.148446  0.065395  0.068915  0.053051  0.000000\n"
     ]
    }
   ],
   "source": [
    "# 1. Calculate Centroids and Pairwise Distances\n",
    "\n",
    "from scipy.spatial.distance import pdist, squareform\n",
    "\n",
    "# Calculate centroids for each category\n",
    "centroids = merged_df.groupby('Diferencias')[['PC1', 'PC2']].mean()\n",
    "\n",
    "# Calculate pairwise distances between centroids\n",
    "centroid_distances = pd.DataFrame(\n",
    "    squareform(pdist(centroids)),\n",
    "    index=centroids.index,\n",
    "    columns=centroids.index\n",
    ")\n",
    "print(\"Pairwise distances between category centroids:\\n\", centroid_distances)"
   ]
  },
  {
   "cell_type": "code",
   "execution_count": 70,
   "metadata": {},
   "outputs": [
    {
     "name": "stdout",
     "output_type": "stream",
     "text": [
      "method name               PERMANOVA\n",
      "test statistic name        pseudo-F\n",
      "sample size                      74\n",
      "number of groups                  6\n",
      "test statistic             3.487254\n",
      "p-value                       0.003\n",
      "number of permutations          999\n",
      "Name: PERMANOVA results, dtype: object\n"
     ]
    }
   ],
   "source": [
    "#permanova\n",
    "\n",
    "from skbio.stats.distance import permanova\n",
    "from skbio.stats.distance import DistanceMatrix\n",
    "\n",
    "# Create a distance matrix from your PCoA coordinates (PC1, PC2)\n",
    "distance_matrix = pdist(merged_df[['PC1', 'PC2']])\n",
    "distance_matrix = DistanceMatrix(squareform(distance_matrix), ids=merged_df.index)\n",
    "\n",
    "# PERMANOVA test\n",
    "result = permanova(distance_matrix, merged_df['Diferencias'])\n",
    "print(result)"
   ]
  },
  {
   "cell_type": "code",
   "execution_count": 71,
   "metadata": {},
   "outputs": [
    {
     "name": "stderr",
     "output_type": "stream",
     "text": [
      "/tmp/ipykernel_2201111/2702987333.py:12: FutureWarning: \n",
      "\n",
      "Passing `palette` without assigning `hue` is deprecated and will be removed in v0.14.0. Assign the `x` variable to `hue` and set `legend=False` for the same effect.\n",
      "\n",
      "  sns.boxplot(data=merged_df, x='Diferencias', y='PC1', palette=category_colors, order=category_order)\n",
      "/tmp/ipykernel_2201111/2702987333.py:20: FutureWarning: \n",
      "\n",
      "Passing `palette` without assigning `hue` is deprecated and will be removed in v0.14.0. Assign the `x` variable to `hue` and set `legend=False` for the same effect.\n",
      "\n",
      "  sns.boxplot(data=merged_df, x='Diferencias', y='PC2', palette=category_colors, order=category_order)\n"
     ]
    },
    {
     "data": {
      "image/png": "[encoded data removed]",
      "text/plain": [
       "<Figure size 1200x600 with 2 Axes>"
      ]
     },
     "metadata": {},
     "output_type": "display_data"
    }
   ],
   "source": [
    "import seaborn as sns\n",
    "import matplotlib.pyplot as plt\n",
    "\n",
    "# Define the order for the categories\n",
    "category_order = ['A', 'B', 'C', 'D', 'E', 'F']\n",
    "\n",
    "# Plot boxplots for PC1 and PC2\n",
    "plt.figure(figsize=(12, 6))\n",
    "\n",
    "# Boxplot for PC1\n",
    "plt.subplot(1, 2, 1)\n",
    "sns.boxplot(data=merged_df, x='Diferencias', y='PC1', palette=category_colors, order=category_order)\n",
    "plt.title('Distribution of PC1 by Category')\n",
    "plt.xlabel('Category')\n",
    "plt.ylabel('PC1')\n",
    "plt.ylim(-0.3, 0.3)  # Set y-axis limits\n",
    "\n",
    "# Boxplot for PC2\n",
    "plt.subplot(1, 2, 2)\n",
    "sns.boxplot(data=merged_df, x='Diferencias', y='PC2', palette=category_colors, order=category_order)\n",
    "plt.title('Distribution of PC2 by Category')\n",
    "plt.xlabel('Category')\n",
    "plt.ylabel('PC2')\n",
    "plt.ylim(-0.3, 0.3)  # Set y-axis limits\n",
    "\n",
    "plt.tight_layout()\n",
    "plt.show()"
   ]
  },
  {
   "cell_type": "code",
   "execution_count": null,
   "metadata": {},
   "outputs": [],
   "source": []
  }
 ],
 "metadata": {
  "kernelspec": {
   "display_name": "python",
   "language": "python",
   "name": "python3"
  },
  "language_info": {
   "codemirror_mode": {
    "name": "ipython",
    "version": 3
   },
   "file_extension": ".py",
   "mimetype": "text/x-python",
   "name": "python",
   "nbconvert_exporter": "python",
   "pygments_lexer": "ipython3",
   "version": "3.12.4"
  }
 },
 "nbformat": 4,
 "nbformat_minor": 2
}
